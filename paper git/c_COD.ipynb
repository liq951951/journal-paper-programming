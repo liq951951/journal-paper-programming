{
 "cells": [
  {
   "cell_type": "code",
   "execution_count": 1,
   "metadata": {},
   "outputs": [],
   "source": [
    "import pandas as pd\n",
    "import numpy as np"
   ]
  },
  {
   "cell_type": "code",
   "execution_count": 32,
   "metadata": {},
   "outputs": [
    {
     "name": "stdout",
     "output_type": "stream",
     "text": [
      "[[0.41985586 0.42342776 0.42361361 0.41991937 0.41931599 0.42119706\n",
      "  0.42159241 0.41892156 0.42086715 0.42307863 0.42305622 0.42151713]\n",
      " [0.41763686 0.4129386  0.41661182 0.41566548 0.41855464 0.41585587\n",
      "  0.41873663 0.41837214 0.41441389 0.4186457  0.41460804 0.41489818]\n",
      " [0.41091168 0.41280195 0.41134804 0.41091168 0.41091168 0.41091168\n",
      "  0.41091168 0.41091168 0.41091168 0.41091168 0.41091168 0.41091168]\n",
      " [0.40589819 0.39811018 0.4192795  0.41153023 0.41071129 0.40721756\n",
      "  0.40946284 0.41183465 0.40967261 0.41451104 0.40466436 0.41029784]\n",
      " [0.41604355 0.41688377 0.41992438 0.41612563 0.41357788 0.41562662\n",
      "  0.4090597  0.41511801 0.41759023 0.41915736 0.416688   0.4186964 ]\n",
      " [0.41263941 0.40893536 0.41963886 0.40340622 0.41233882 0.41213763\n",
      "  0.41382786 0.40634101 0.41060818 0.41431659 0.4139259  0.41717297]]\n"
     ]
    }
   ],
   "source": [
    "#将GM(1,1)、BPNN和XGBoost(COD)的预测结果分别输入：\n",
    "data = pd.read_excel(r'E:/水环境/论文修改/数据/xgboost预测结果(COD).xlsx',sheet_name='Sheet1',header=None)\n",
    "data = data.values\n",
    "print(data)\n",
    "#按列累加\n",
    "data_cumsum = np.cumsum(data,axis=1)"
   ]
  },
  {
   "cell_type": "code",
   "execution_count": 33,
   "metadata": {},
   "outputs": [],
   "source": [
    "#预测输入变量的一次累加序列\n",
    "y1_pred_cumsum = data_cumsum[0,:]\n",
    "y2_pred_cumsum = data_cumsum[2,:]\n",
    "y3_pred_cumsum = data_cumsum[4,:]\n",
    "t = np.array(range(1,13))\n",
    "u = np.exp(-2.2541*t)"
   ]
  },
  {
   "cell_type": "code",
   "execution_count": 34,
   "metadata": {},
   "outputs": [
    {
     "name": "stdout",
     "output_type": "stream",
     "text": [
      "综合指数预测的一次累加序列: [ 1010.19761258  1970.63216181  2976.83122095  3968.35658129\n",
      "  4950.77243475  5938.30260638  6904.92524418  7892.11984302\n",
      "  8885.97073765  9883.48064617 10873.2402907  11870.1960862 ]\n"
     ]
    }
   ],
   "source": [
    "#求综合舆情指标预测值的一次累加序列\n",
    "Hot_pred_cumsum = (1186.1+573.18596*y1_pred_cumsum+189.14375*y2_pred_cumsum-3143.76924*y3_pred_cumsum)*u-573.18596*y1_pred_cumsum -189.14375*y2_pred_cumsum +3143.76924*y3_pred_cumsum\n",
    "print('综合指数预测的一次累加序列:',Hot_pred_cumsum)"
   ]
  },
  {
   "cell_type": "code",
   "execution_count": 35,
   "metadata": {},
   "outputs": [
    {
     "name": "stdout",
     "output_type": "stream",
     "text": [
      "综合指标预测值的序列: [960.4345492282839, 1006.1990591413783, 991.5253603415872, 982.4158534660969, 987.5301716205686, 966.6226378039246, 987.1945988447578, 993.850894624321, 997.5099085263864, 989.7596445281142, 996.9557954995598]\n"
     ]
    }
   ],
   "source": [
    "#还原，求综合舆情指标预测值序列\n",
    "Hot_pred = []\n",
    "for i in range(len(Hot_pred_cumsum)-1):\n",
    "    sub = Hot_pred_cumsum[i+1] - Hot_pred_cumsum[i]\n",
    "    Hot_pred.append(sub)\n",
    "print('综合指标预测值的序列:',Hot_pred)"
   ]
  },
  {
   "cell_type": "code",
   "execution_count": 36,
   "metadata": {},
   "outputs": [],
   "source": [
    "#真实输入变量的一次累加序列\n",
    "y1_real_cumsum = data_cumsum[1,:]\n",
    "y2_real_cumsum = data_cumsum[3,:]\n",
    "y3_real_cumsum = data_cumsum[5,:]"
   ]
  },
  {
   "cell_type": "code",
   "execution_count": 37,
   "metadata": {},
   "outputs": [],
   "source": [
    "#求综合舆情指标真实值的一次累加序列\n",
    "Hot_real_cumsum = (1186.1+573.18596*y1_real_cumsum+189.14375*y2_real_cumsum-3143.76924*y3_real_cumsum)*u-573.18596*y1_real_cumsum -189.14375*y2_real_cumsum +3143.76924*y3_real_cumsum"
   ]
  },
  {
   "cell_type": "code",
   "execution_count": 38,
   "metadata": {
    "scrolled": true
   },
   "outputs": [
    {
     "name": "stdout",
     "output_type": "stream",
     "text": [
      "综合指标真实值的序列: [943.6193037245771, 1007.5693666153838, 953.8404540441352, 978.9882488778476, 980.321091910524, 983.5234612473432, 959.742091055863, 975.8342046286562, 984.1517501303897, 987.1002810798273, 996.0764637314387]\n"
     ]
    }
   ],
   "source": [
    "#还原，求舆情指标真实值序列\n",
    "Hot_real = []\n",
    "for i in range(len(Hot_real_cumsum)-1):\n",
    "    sub = Hot_real_cumsum[i+1] - Hot_real_cumsum[i]\n",
    "    Hot_real.append(sub)\n",
    "print('综合指标真实值的序列:',Hot_real)"
   ]
  },
  {
   "cell_type": "markdown",
   "metadata": {},
   "source": [
    "求预测误差"
   ]
  },
  {
   "cell_type": "code",
   "execution_count": 39,
   "metadata": {},
   "outputs": [],
   "source": [
    "def MAPE(true, pred):\n",
    "    diff = np.abs(np.array(true) - np.array(pred))\n",
    "    return np.mean(diff / true)\n",
    "from sklearn.metrics import mean_absolute_error\n",
    "from sklearn.metrics import mean_squared_error"
   ]
  },
  {
   "cell_type": "code",
   "execution_count": 40,
   "metadata": {},
   "outputs": [],
   "source": [
    "MAPE = MAPE(Hot_real, Hot_pred)\n",
    "MAE = mean_absolute_error(Hot_real, Hot_pred)\n",
    "MSE = mean_squared_error(Hot_real, Hot_pred)"
   ]
  },
  {
   "cell_type": "code",
   "execution_count": 41,
   "metadata": {},
   "outputs": [
    {
     "name": "stdout",
     "output_type": "stream",
     "text": [
      "MAE=13.252183492167392, MSE=301.6969690414568, MAPE=0.013722234105392271\n"
     ]
    }
   ],
   "source": [
    "print('MAE={}, MSE={}, MAPE={}'.format(MAE, MSE, MAPE))"
   ]
  },
  {
   "cell_type": "code",
   "execution_count": null,
   "metadata": {},
   "outputs": [],
   "source": []
  }
 ],
 "metadata": {
  "kernelspec": {
   "display_name": "Python 3",
   "language": "python",
   "name": "python3"
  },
  "language_info": {
   "codemirror_mode": {
    "name": "ipython",
    "version": 3
   },
   "file_extension": ".py",
   "mimetype": "text/x-python",
   "name": "python",
   "nbconvert_exporter": "python",
   "pygments_lexer": "ipython3",
   "version": "3.7.6"
  }
 },
 "nbformat": 4,
 "nbformat_minor": 4
}
