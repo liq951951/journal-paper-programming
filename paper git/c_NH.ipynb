{
 "cells": [
  {
   "cell_type": "code",
   "execution_count": 1,
   "metadata": {},
   "outputs": [],
   "source": [
    "import pandas as pd\n",
    "import numpy as np"
   ]
  },
  {
   "cell_type": "code",
   "execution_count": 46,
   "metadata": {},
   "outputs": [
    {
     "name": "stdout",
     "output_type": "stream",
     "text": [
      "[[0.42154932 0.42231387 0.42375034 0.42154932 0.42019033 0.42173019\n",
      "  0.42217049 0.42001978 0.42725414 0.42298156 0.42250863 0.4233709 ]\n",
      " [0.41763686 0.4129386  0.41661182 0.41566548 0.41855464 0.41585587\n",
      "  0.41873663 0.41837214 0.41441389 0.4186457  0.41460804 0.41489818]\n",
      " [0.39901248 0.4061206  0.40092203 0.40045711 0.40103441 0.39910194\n",
      "  0.40364063 0.40240011 0.40240011 0.40000892 0.40355289 0.40240011]\n",
      " [0.40589819 0.39811018 0.4192795  0.41153023 0.41071129 0.40721756\n",
      "  0.40946284 0.41183465 0.40967261 0.41451104 0.40466436 0.41029784]\n",
      " [0.41572446 0.41962355 0.42091858 0.41594648 0.41481063 0.41922423\n",
      "  0.41126272 0.41613466 0.41914701 0.41673183 0.41613466 0.42006385]\n",
      " [0.41263941 0.40893536 0.41963886 0.40340622 0.41233882 0.41213763\n",
      "  0.41382786 0.40634101 0.41060818 0.41431659 0.4139259  0.41717297]]\n"
     ]
    }
   ],
   "source": [
    "#将GM(1,1)、BPNN和XGBoostd(NH)的预测结果分别输入：\n",
    "data = pd.read_excel(r'E:/水环境/论文修改/数据/xgboost预测结果(NH).xlsx',sheet_name='Sheet1',header=None)\n",
    "data = np.array(data)\n",
    "print(data)\n",
    "#按列累加\n",
    "data_cumsum = np.cumsum(data,axis=1)"
   ]
  },
  {
   "cell_type": "code",
   "execution_count": 47,
   "metadata": {},
   "outputs": [],
   "source": [
    "#预测输入变量的一次累加序列\n",
    "y1_pred_cumsum = data_cumsum[0,:]\n",
    "y2_pred_cumsum = data_cumsum[2,:]\n",
    "y3_pred_cumsum = data_cumsum[4,:]\n",
    "t = np.array(range(1,13))\n",
    "u = np.exp(-2.29122*t)"
   ]
  },
  {
   "cell_type": "code",
   "execution_count": 48,
   "metadata": {},
   "outputs": [
    {
     "name": "stdout",
     "output_type": "stream",
     "text": [
      "综合指数预测的一次累加序列: [ 70.10292971 137.42382376 207.0719314  275.94929349 344.61679482\n",
      " 413.52317743 482.21217791 550.99562342 620.38448187 689.26225373\n",
      " 758.24991228 827.46102637]\n"
     ]
    }
   ],
   "source": [
    "#求综合舆情指标预测值的一次累加序列\n",
    "Hot_pred_cumsum = (82.70000-59.49183*y1_pred_cumsum-48.73835*y2_pred_cumsum-58.11423*y3_pred_cumsum)*u+59.49183*y1_pred_cumsum +48.73835*y2_pred_cumsum +58.11423*y3_pred_cumsum\n",
    "print('综合指数预测的一次累加序列:',Hot_pred_cumsum)"
   ]
  },
  {
   "cell_type": "code",
   "execution_count": 49,
   "metadata": {},
   "outputs": [
    {
     "name": "stdout",
     "output_type": "stream",
     "text": [
      "综合指标预测值的序列: [67.32089405507149, 69.6481076397979, 68.87736208615866, 68.66750132720193, 68.9063826113956, 68.68900047703141, 68.78344551397242, 69.38885844612878, 68.87777186810115, 68.98765854883675, 69.21111408274442]\n"
     ]
    }
   ],
   "source": [
    "#还原，求综合舆情指标预测值序列\n",
    "Hot_pred = []\n",
    "for i in range(len(Hot_pred_cumsum)-1):\n",
    "    sub = Hot_pred_cumsum[i+1] - Hot_pred_cumsum[i]\n",
    "    Hot_pred.append(sub)\n",
    "print('综合指标预测值的序列:',Hot_pred)"
   ]
  },
  {
   "cell_type": "code",
   "execution_count": 50,
   "metadata": {},
   "outputs": [],
   "source": [
    "#真实输入变量的一次累加序列\n",
    "y1_real_cumsum = data_cumsum[1,:]\n",
    "y2_real_cumsum = data_cumsum[3,:]\n",
    "y3_real_cumsum = data_cumsum[5,:]"
   ]
  },
  {
   "cell_type": "code",
   "execution_count": 51,
   "metadata": {},
   "outputs": [],
   "source": [
    "#求综合舆情指标真实值的一次累加序列\n",
    "Hot_real_cumsum = (82.70000-59.49183*y1_real_cumsum-48.73835*y2_real_cumsum-58.11423*y3_real_cumsum)*u+59.49183*y1_real_cumsum +48.73835*y2_real_cumsum +58.11423*y3_real_cumsum"
   ]
  },
  {
   "cell_type": "code",
   "execution_count": 52,
   "metadata": {
    "scrolled": true
   },
   "outputs": [
    {
     "name": "stdout",
     "output_type": "stream",
     "text": [
      "综合指标真实值的序列: [65.76069534035331, 70.02822423281316, 68.3371329693, 68.8980077489644, 68.54060310459249, 68.91754782935789, 68.57609872427224, 68.48319044794073, 69.1862732626995, 68.44344951869459, 68.92397739983187]\n"
     ]
    }
   ],
   "source": [
    "#还原，求舆情指标真实值序列\n",
    "Hot_real = []\n",
    "for i in range(len(Hot_real_cumsum)-1):\n",
    "    sub = Hot_real_cumsum[i+1] - Hot_real_cumsum[i]\n",
    "    Hot_real.append(sub)\n",
    "print('综合指标真实值的序列:',Hot_real)"
   ]
  },
  {
   "cell_type": "code",
   "execution_count": 53,
   "metadata": {},
   "outputs": [],
   "source": [
    "#GM（1，N）第一个预测值太离谱，不要了\n",
    "# Hot_pred = Hot_pred[1:]\n",
    "# Hot_real = Hot_real[1:]"
   ]
  },
  {
   "cell_type": "markdown",
   "metadata": {},
   "source": [
    "求预测误差"
   ]
  },
  {
   "cell_type": "code",
   "execution_count": 54,
   "metadata": {},
   "outputs": [],
   "source": [
    "def MAPE(true, pred):\n",
    "    diff = np.abs(np.array(true) - np.array(pred))\n",
    "    return np.mean(diff / true)\n",
    "from sklearn.metrics import mean_absolute_error\n",
    "from sklearn.metrics import mean_squared_error"
   ]
  },
  {
   "cell_type": "code",
   "execution_count": 55,
   "metadata": {},
   "outputs": [],
   "source": [
    "MAPE = MAPE(Hot_real, Hot_pred)\n",
    "MAE = mean_absolute_error(Hot_real, Hot_pred)\n",
    "MSE = mean_squared_error(Hot_real, Hot_pred)"
   ]
  },
  {
   "cell_type": "code",
   "execution_count": 56,
   "metadata": {},
   "outputs": [
    {
     "name": "stdout",
     "output_type": "stream",
     "text": [
      "MAE=0.5052945091841304, MSE=0.40424810640857456, MAPE=0.0074438028689222\n"
     ]
    }
   ],
   "source": [
    "print('MAE={}, MSE={}, MAPE={}'.format(MAE, MSE, MAPE))"
   ]
  }
 ],
 "metadata": {
  "kernelspec": {
   "display_name": "Python 3",
   "language": "python",
   "name": "python3"
  },
  "language_info": {
   "codemirror_mode": {
    "name": "ipython",
    "version": 3
   },
   "file_extension": ".py",
   "mimetype": "text/x-python",
   "name": "python",
   "nbconvert_exporter": "python",
   "pygments_lexer": "ipython3",
   "version": "3.7.6"
  }
 },
 "nbformat": 4,
 "nbformat_minor": 4
}
