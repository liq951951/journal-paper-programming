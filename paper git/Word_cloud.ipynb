{
 "cells": [
  {
   "cell_type": "code",
   "execution_count": 18,
   "metadata": {},
   "outputs": [],
   "source": [
    "import openpyxl\n",
    "import pandas as pd\n",
    "import numpy as np\n",
    "import wordcloud # 词云展示库\n",
    "from PIL import Image # 图像处理库\n",
    "import matplotlib.pyplot as plt # 图像展示库"
   ]
  },
  {
   "cell_type": "markdown",
   "metadata": {},
   "source": [
    "<font face='黑体' color=#0099ff size=4>获取发帖量</font>"
   ]
  },
  {
   "cell_type": "code",
   "execution_count": 12,
   "metadata": {},
   "outputs": [],
   "source": [
    "wb = openpyxl.load_workbook(r'E:\\水环境\\论文修改\\数据\\7月新数据预处理\\月度数据.xlsx')  #用load_workbook函数打开excel文件，返回一个工作簿对象\n",
    "sheets = wb.sheetnames  #用工作簿对象获取所有的sheet"
   ]
  },
  {
   "cell_type": "code",
   "execution_count": 14,
   "metadata": {},
   "outputs": [],
   "source": [
    "num_dic = {}\n",
    "for sheet in sheets:  #for循环遍历所有sheet\n",
    "    df = pd.read_excel(r'E:\\水环境\\论文修改\\数据\\7月新数据预处理\\月度数据.xlsx', sheet_name=sheet, index_col=0, header=0)\n",
    "    nums = df['num'].values\n",
    "    num = nums.sum()\n",
    "    num_dic[sheet] = num"
   ]
  },
  {
   "cell_type": "code",
   "execution_count": 30,
   "metadata": {
    "scrolled": true
   },
   "outputs": [
    {
     "data": {
      "text/plain": [
       "{'水俣病': 3786,\n",
       " '城镇化水平': 55966,\n",
       " '池塘养鱼': 67562,\n",
       " '池塘养殖': 66591,\n",
       " '赤潮': 23886,\n",
       " '畜牧养殖': 63729,\n",
       " '淡水养殖': 66056,\n",
       " '氮磷钾': 9119,\n",
       " '地下水污染': 93352,\n",
       " '镉中毒': 4356,\n",
       " '汞中毒': 30895,\n",
       " '固体废弃物': 77725,\n",
       " '工业废水': 33686,\n",
       " '旱厕': 21112,\n",
       " '河道管理': 66037,\n",
       " '化粪池': 58683,\n",
       " '化肥农药': 68665,\n",
       " '河流污染': 66216,\n",
       " '节水': 68721,\n",
       " '垃圾处理': 70651,\n",
       " '龙虾养殖': 64609,\n",
       " '蓝藻': 40200,\n",
       " '面源污染': 15796,\n",
       " '农村居民人均可支配收入': 21694,\n",
       " '农村水环境': 55559,\n",
       " '农村生活用水': 27112,\n",
       " '农村生态环境': 48699,\n",
       " '农村水质': 50951,\n",
       " '农村饮用水': 68515,\n",
       " '农田排水': 65500,\n",
       " '农田水利': 64972,\n",
       " '农田用水': 67901,\n",
       " '农业发展水平': 31806,\n",
       " '农业灌溉': 54961,\n",
       " '农业污水': 69014,\n",
       " '排水沟': 50655,\n",
       " '水环境治理政策': 23980,\n",
       " '生活污水': 69423,\n",
       " '生活污水处理': 61121,\n",
       " '水权': 4919,\n",
       " '生态农业': 68500,\n",
       " '水文监测': 55769,\n",
       " '水资源管理': 62878,\n",
       " '水资源现状': 65854,\n",
       " '污水处理': 68605,\n",
       " '污水过滤': 68337,\n",
       " '污水回用': 18757,\n",
       " '污水资源化': 30154,\n",
       " '循环农业': 64836,\n",
       " '饮用水': 71225,\n",
       " '饮用水安全': 57820,\n",
       " '饮用水卫生': 65425,\n",
       " '养殖场': 65084,\n",
       " '智慧农业': 66153,\n",
       " '重金属污染': 133125,\n",
       " '自来水': 71195,\n",
       " '沼气': 50852,\n",
       " '中水回收': 72213,\n",
       " '再生水': 66323,\n",
       " '种植业': 37089,\n",
       " '河水污染': 66473,\n",
       " '农村污水处理': 24564,\n",
       " '水污染防治': 56905,\n",
       " '水污染事件': 47531,\n",
       " '水污染治理': 36017,\n",
       " '水质监测': 68623,\n",
       " '水中毒': 32462}"
      ]
     },
     "execution_count": 30,
     "metadata": {},
     "output_type": "execute_result"
    }
   ],
   "source": [
    "num_dic['农村污水处理'] = 24564\n",
    "num_dic"
   ]
  },
  {
   "cell_type": "code",
   "execution_count": 31,
   "metadata": {},
   "outputs": [
    {
     "data": {
      "text/plain": [
       "67"
      ]
     },
     "execution_count": 31,
     "metadata": {},
     "output_type": "execute_result"
    }
   ],
   "source": [
    "len(num_dic)"
   ]
  },
  {
   "cell_type": "code",
   "execution_count": 115,
   "metadata": {},
   "outputs": [],
   "source": [
    "# 词频展示\n",
    "graph = np.array(Image.open(r'E:\\水环境\\论文修改\\数据\\水滴.jpg')) # 定义词频背景\n",
    "wc = wordcloud.WordCloud(\n",
    "    font_path='C:/Windows/Fonts/simhei.ttf', # 设置字体格式\n",
    "    mask=graph, # 设置背景图\n",
    "    max_words=70, # 最多显示词数\n",
    "    max_font_size=40, # 字体最大值\n",
    "    scale=10,  # 比列放大  数值越大  词云越清晰\n",
    "    background_color='white',  #设置透明底色的云词图\n",
    "    mode='RGBA'\n",
    ")"
   ]
  },
  {
   "cell_type": "code",
   "execution_count": 116,
   "metadata": {},
   "outputs": [
    {
     "data": {
      "image/png": "[encoded data removed]",
      "text/plain": [
       "<Figure size 432x288 with 1 Axes>"
      ]
     },
     "metadata": {
      "needs_background": "light"
     },
     "output_type": "display_data"
    }
   ],
   "source": [
    "wc.generate_from_frequencies(num_dic) # 从字典生成词云\n",
    "# image_colors = wordcloud.ImageColorGenerator(graph) # 从背景图建立颜色方案\n",
    "# wc.recolor(color_func=image_colors) # 将词云颜色设置为背景图方案\n",
    "plt.imshow(wc) # 显示词云\n",
    "plt.axis('off') # 关闭坐标轴\n",
    "plt.show() # 显示图像"
   ]
  },
  {
   "cell_type": "code",
   "execution_count": 117,
   "metadata": {},
   "outputs": [
    {
     "data": {
      "text/plain": [
       "<wordcloud.wordcloud.WordCloud at 0x20900918b48>"
      ]
     },
     "execution_count": 117,
     "metadata": {},
     "output_type": "execute_result"
    }
   ],
   "source": [
    "wc.to_file(r'E:\\水环境\\论文修改\\数据\\wc.png')  #保存词云图片"
   ]
  }
 ],
 "metadata": {
  "kernelspec": {
   "display_name": "Python 3",
   "language": "python",
   "name": "python3"
  },
  "language_info": {
   "codemirror_mode": {
    "name": "ipython",
    "version": 3
   },
   "file_extension": ".py",
   "mimetype": "text/x-python",
   "name": "python",
   "nbconvert_exporter": "python",
   "pygments_lexer": "ipython3",
   "version": "3.7.6"
  }
 },
 "nbformat": 4,
 "nbformat_minor": 4
}
