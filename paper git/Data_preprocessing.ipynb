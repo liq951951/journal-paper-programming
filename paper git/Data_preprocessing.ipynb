{
 "cells": [
  {
   "cell_type": "markdown",
   "metadata": {},
   "source": [
    "读入储存评论信息的excel表"
   ]
  },
  {
   "cell_type": "code",
   "execution_count": 582,
   "metadata": {},
   "outputs": [
    {
     "name": "stdout",
     "output_type": "stream",
     "text": [
      "<class 'pandas.core.frame.DataFrame'>\n",
      "RangeIndex: 34372 entries, 0 to 34371\n",
      "Data columns (total 10 columns):\n",
      " #   Column         Non-Null Count  Dtype \n",
      "---  ------         --------------  ----- \n",
      " 0   wb_id          34372 non-null  object\n",
      " 1   wb_username    34372 non-null  object\n",
      " 2   wb_userid      34372 non-null  object\n",
      " 3   wb_content     34372 non-null  object\n",
      " 4   wb_createtime  34372 non-null  object\n",
      " 5   wb_forwardnum  34372 non-null  object\n",
      " 6   wb_commentnum  34372 non-null  object\n",
      " 7   wb_likenum     34372 non-null  object\n",
      " 8   wb_url         34372 non-null  object\n",
      " 9   wb_mood        34372 non-null  object\n",
      "dtypes: object(10)\n",
      "memory usage: 2.6+ MB\n"
     ]
    }
   ],
   "source": [
    "import pandas as pd\n",
    "import numpy as np\n",
    "from xml.sax import ContentHandler, parse\n",
    "import openpyxl\n",
    "# Reference https://goo.gl/KaOBG3\n",
    "class ExcelHandler(ContentHandler):\n",
    "    def __init__(self):\n",
    "        self.chars = [  ]\n",
    "        self.cells = [  ]\n",
    "        self.rows = [  ]\n",
    "        self.tables = [  ]\n",
    "    def characters(self, content):\n",
    "        self.chars.append(content)\n",
    "    def startElement(self, name, atts):\n",
    "        if name==\"Cell\":\n",
    "            self.chars = [  ]\n",
    "        elif name==\"Row\":\n",
    "            self.cells=[  ]\n",
    "        elif name==\"Table\":\n",
    "            self.rows = [  ]\n",
    "    def endElement(self, name):\n",
    "        if name==\"Cell\":\n",
    "            self.cells.append(''.join(self.chars))\n",
    "        elif name==\"Row\":\n",
    "            self.rows.append(self.cells)\n",
    "        elif name==\"Table\":\n",
    "            self.tables.append(self.rows)\n",
    " \n",
    "excelHandler = ExcelHandler()\n",
    "parse(r'E:\\OriganalData\\szd.xml', excelHandler)  #文件路径\n",
    "df = pd.DataFrame(excelHandler.tables[0][1:], columns=excelHandler.tables[0][0])\n",
    "df.info()"
   ]
  },
  {
   "cell_type": "markdown",
   "metadata": {},
   "source": [
    "删除空行"
   ]
  },
  {
   "cell_type": "code",
   "execution_count": 583,
   "metadata": {},
   "outputs": [
    {
     "name": "stdout",
     "output_type": "stream",
     "text": [
      "<class 'pandas.core.frame.DataFrame'>\n",
      "Int64Index: 33089 entries, 0 to 34371\n",
      "Data columns (total 10 columns):\n",
      " #   Column         Non-Null Count  Dtype \n",
      "---  ------         --------------  ----- \n",
      " 0   wb_id          33089 non-null  object\n",
      " 1   wb_username    33089 non-null  object\n",
      " 2   wb_userid      33089 non-null  object\n",
      " 3   wb_content     33089 non-null  object\n",
      " 4   wb_createtime  33089 non-null  object\n",
      " 5   wb_forwardnum  33089 non-null  object\n",
      " 6   wb_commentnum  33089 non-null  object\n",
      " 7   wb_likenum     33089 non-null  object\n",
      " 8   wb_url         33089 non-null  object\n",
      " 9   wb_mood        33089 non-null  object\n",
      "dtypes: object(10)\n",
      "memory usage: 2.8+ MB\n"
     ]
    }
   ],
   "source": [
    "df[df.wb_userid == '']=np.nan\n",
    "data=df.dropna(how='any')\n",
    "data.info()"
   ]
  },
  {
   "cell_type": "markdown",
   "metadata": {},
   "source": [
    "按照时间排序"
   ]
  },
  {
   "cell_type": "code",
   "execution_count": 584,
   "metadata": {
    "scrolled": true
   },
   "outputs": [
    {
     "data": {
      "text/html": [
       "<div>\n",
       "<style scoped>\n",
       "    .dataframe tbody tr th:only-of-type {\n",
       "        vertical-align: middle;\n",
       "    }\n",
       "\n",
       "    .dataframe tbody tr th {\n",
       "        vertical-align: top;\n",
       "    }\n",
       "\n",
       "    .dataframe thead th {\n",
       "        text-align: right;\n",
       "    }\n",
       "</style>\n",
       "<table border=\"1\" class=\"dataframe\">\n",
       "  <thead>\n",
       "    <tr style=\"text-align: right;\">\n",
       "      <th></th>\n",
       "      <th>wb_id</th>\n",
       "      <th>wb_username</th>\n",
       "      <th>wb_userid</th>\n",
       "      <th>wb_content</th>\n",
       "      <th>wb_createtime</th>\n",
       "      <th>wb_forwardnum</th>\n",
       "      <th>wb_commentnum</th>\n",
       "      <th>wb_likenum</th>\n",
       "      <th>wb_url</th>\n",
       "      <th>wb_mood</th>\n",
       "    </tr>\n",
       "  </thead>\n",
       "  <tbody>\n",
       "    <tr>\n",
       "      <th>27114</th>\n",
       "      <td>J9yED4Cy7</td>\n",
       "      <td>天生就很丧丧丧</td>\n",
       "      <td>2640583133</td>\n",
       "      <td>#蓝盈莹好胜心#看了这个分析才能理清楚这个​</td>\n",
       "      <td>2020-07-04 01:50</td>\n",
       "      <td>6</td>\n",
       "      <td>20</td>\n",
       "      <td>142</td>\n",
       "      <td>https://weibo.com/2640583133/J9yED4Cy7?refer_f...</td>\n",
       "      <td>0.682969237111795</td>\n",
       "    </tr>\n",
       "    <tr>\n",
       "      <th>27065</th>\n",
       "      <td>J9yGFxYWs</td>\n",
       "      <td>黄章晋ster</td>\n",
       "      <td>1735918992</td>\n",
       "      <td>蚊子在耳边嗡嗡了一个多小时，打开灯忙半天还是没捉着。突然想，人家要我的只是一顿饭，我要它的却...</td>\n",
       "      <td>2020-07-04 01:55</td>\n",
       "      <td>9</td>\n",
       "      <td>25</td>\n",
       "      <td>27</td>\n",
       "      <td>https://weibo.com/1735918992/J9yGFxYWs?refer_f...</td>\n",
       "      <td>0.00111703752162962</td>\n",
       "    </tr>\n",
       "    <tr>\n",
       "      <th>31123</th>\n",
       "      <td>J9B2VkKt3</td>\n",
       "      <td>娱乐揭秘蜀黍</td>\n",
       "      <td>5039775130</td>\n",
       "      <td>杜华：那我今天在脏雨绮身上，看到了王ze的风范。华啥时候能把舌头捋直了说话#杜华烫嘴普通话#​</td>\n",
       "      <td>2020-07-04 07:56</td>\n",
       "      <td>161</td>\n",
       "      <td>192</td>\n",
       "      <td>2730</td>\n",
       "      <td>https://weibo.com/5039775130/J9B2VkKt3?refer_f...</td>\n",
       "      <td>0.992331504896706</td>\n",
       "    </tr>\n",
       "    <tr>\n",
       "      <th>31394</th>\n",
       "      <td>J9BtifIs8</td>\n",
       "      <td>央视新闻</td>\n",
       "      <td>2656274875</td>\n",
       "      <td>【#29%新冠病毒样本出现D614G变异#】当地时间3日，针对有实验室研究发现新冠病毒D61...</td>\n",
       "      <td>2020-07-04 09:01</td>\n",
       "      <td>1313</td>\n",
       "      <td>1592</td>\n",
       "      <td>41528</td>\n",
       "      <td>https://weibo.com/2656274875/J9BtifIs8?refer_f...</td>\n",
       "      <td>0.999963296224556</td>\n",
       "    </tr>\n",
       "    <tr>\n",
       "      <th>33972</th>\n",
       "      <td>J9Db3aQDd</td>\n",
       "      <td>央视新闻</td>\n",
       "      <td>2656274875</td>\n",
       "      <td>#重庆强降雨#【直播！#重庆江津暴雨河水倒灌街道被淹#】昨起，重庆江津区出现强降雨天气，其中...</td>\n",
       "      <td>2020-07-04 13:21</td>\n",
       "      <td>171</td>\n",
       "      <td>360</td>\n",
       "      <td>4793</td>\n",
       "      <td>https://weibo.com/2656274875/J9Db3aQDd?refer_f...</td>\n",
       "      <td>0.9997817384113</td>\n",
       "    </tr>\n",
       "  </tbody>\n",
       "</table>\n",
       "</div>"
      ],
      "text/plain": [
       "           wb_id wb_username   wb_userid  \\\n",
       "27114  J9yED4Cy7     天生就很丧丧丧  2640583133   \n",
       "27065  J9yGFxYWs     黄章晋ster  1735918992   \n",
       "31123  J9B2VkKt3      娱乐揭秘蜀黍  5039775130   \n",
       "31394  J9BtifIs8        央视新闻  2656274875   \n",
       "33972  J9Db3aQDd        央视新闻  2656274875   \n",
       "\n",
       "                                              wb_content     wb_createtime  \\\n",
       "27114                             #蓝盈莹好胜心#看了这个分析才能理清楚这个​  2020-07-04 01:50   \n",
       "27065  蚊子在耳边嗡嗡了一个多小时，打开灯忙半天还是没捉着。突然想，人家要我的只是一顿饭，我要它的却...  2020-07-04 01:55   \n",
       "31123    杜华：那我今天在脏雨绮身上，看到了王ze的风范。华啥时候能把舌头捋直了说话#杜华烫嘴普通话#​  2020-07-04 07:56   \n",
       "31394  【#29%新冠病毒样本出现D614G变异#】当地时间3日，针对有实验室研究发现新冠病毒D61...  2020-07-04 09:01   \n",
       "33972  #重庆强降雨#【直播！#重庆江津暴雨河水倒灌街道被淹#】昨起，重庆江津区出现强降雨天气，其中...  2020-07-04 13:21   \n",
       "\n",
       "      wb_forwardnum wb_commentnum wb_likenum  \\\n",
       "27114             6            20        142   \n",
       "27065             9            25         27   \n",
       "31123           161           192       2730   \n",
       "31394          1313          1592      41528   \n",
       "33972           171           360       4793   \n",
       "\n",
       "                                                  wb_url              wb_mood  \n",
       "27114  https://weibo.com/2640583133/J9yED4Cy7?refer_f...    0.682969237111795  \n",
       "27065  https://weibo.com/1735918992/J9yGFxYWs?refer_f...  0.00111703752162962  \n",
       "31123  https://weibo.com/5039775130/J9B2VkKt3?refer_f...    0.992331504896706  \n",
       "31394  https://weibo.com/2656274875/J9BtifIs8?refer_f...    0.999963296224556  \n",
       "33972  https://weibo.com/2656274875/J9Db3aQDd?refer_f...      0.9997817384113  "
      ]
     },
     "execution_count": 584,
     "metadata": {},
     "output_type": "execute_result"
    }
   ],
   "source": [
    "data = data.sort_values(by='wb_createtime')\n",
    "data.head()\n",
    "data.tail()"
   ]
  },
  {
   "cell_type": "markdown",
   "metadata": {},
   "source": [
    "利用 pandas 的to_datetime 方法，把 \"wb_createtime\" 列的字符类型数据解析成 datetime 对象。"
   ]
  },
  {
   "cell_type": "code",
   "execution_count": 585,
   "metadata": {},
   "outputs": [],
   "source": [
    "ts = data.copy()\n",
    "ts['wb_createtime'] = pd.to_datetime(ts['wb_createtime'])\n",
    "ts.set_index(['wb_createtime'],inplace=True)"
   ]
  },
  {
   "cell_type": "code",
   "execution_count": 586,
   "metadata": {},
   "outputs": [
    {
     "data": {
      "text/plain": [
       "[DatetimeIndex(['2010-01-07 19:08:00', '2010-01-11 11:08:00',\n",
       "                '2010-01-13 15:38:00', '2010-01-14 14:48:00',\n",
       "                '2010-01-24 10:10:00', '2010-01-25 10:18:00',\n",
       "                '2010-01-26 09:59:00', '2010-02-08 11:11:00',\n",
       "                '2010-02-10 16:02:00', '2010-02-19 16:32:00',\n",
       "                ...\n",
       "                '2020-07-04 01:15:00', '2020-07-04 01:15:00',\n",
       "                '2020-07-04 01:17:00', '2020-07-04 01:17:00',\n",
       "                '2020-07-04 01:17:00', '2020-07-04 01:50:00',\n",
       "                '2020-07-04 01:55:00', '2020-07-04 07:56:00',\n",
       "                '2020-07-04 09:01:00', '2020-07-04 13:21:00'],\n",
       "               dtype='datetime64[ns]', name='wb_createtime', length=33089, freq=None),\n",
       " Index(['wb_id', 'wb_username', 'wb_userid', 'wb_content', 'wb_forwardnum',\n",
       "        'wb_commentnum', 'wb_likenum', 'wb_url', 'wb_mood'],\n",
       "       dtype='object')]"
      ]
     },
     "execution_count": 586,
     "metadata": {},
     "output_type": "execute_result"
    }
   ],
   "source": [
    "ts.axes"
   ]
  },
  {
   "cell_type": "markdown",
   "metadata": {},
   "source": [
    "以月为频率进行重采样"
   ]
  },
  {
   "cell_type": "code",
   "execution_count": 587,
   "metadata": {},
   "outputs": [
    {
     "data": {
      "text/html": [
       "<div>\n",
       "<style scoped>\n",
       "    .dataframe tbody tr th:only-of-type {\n",
       "        vertical-align: middle;\n",
       "    }\n",
       "\n",
       "    .dataframe tbody tr th {\n",
       "        vertical-align: top;\n",
       "    }\n",
       "\n",
       "    .dataframe thead th {\n",
       "        text-align: right;\n",
       "    }\n",
       "</style>\n",
       "<table border=\"1\" class=\"dataframe\">\n",
       "  <thead>\n",
       "    <tr style=\"text-align: right;\">\n",
       "      <th></th>\n",
       "      <th>num</th>\n",
       "      <th>log_num</th>\n",
       "      <th>log_active_user</th>\n",
       "      <th>INDEX</th>\n",
       "    </tr>\n",
       "  </thead>\n",
       "  <tbody>\n",
       "    <tr>\n",
       "      <th>2011-01-31</th>\n",
       "      <td>51</td>\n",
       "      <td>3.931826</td>\n",
       "      <td>12.831703</td>\n",
       "      <td>0.306415</td>\n",
       "    </tr>\n",
       "    <tr>\n",
       "      <th>2011-02-28</th>\n",
       "      <td>71</td>\n",
       "      <td>4.262680</td>\n",
       "      <td>12.831703</td>\n",
       "      <td>0.332199</td>\n",
       "    </tr>\n",
       "    <tr>\n",
       "      <th>2011-03-31</th>\n",
       "      <td>99</td>\n",
       "      <td>4.595120</td>\n",
       "      <td>12.831703</td>\n",
       "      <td>0.358107</td>\n",
       "    </tr>\n",
       "    <tr>\n",
       "      <th>2011-04-30</th>\n",
       "      <td>80</td>\n",
       "      <td>4.382027</td>\n",
       "      <td>12.831703</td>\n",
       "      <td>0.341500</td>\n",
       "    </tr>\n",
       "    <tr>\n",
       "      <th>2011-05-31</th>\n",
       "      <td>106</td>\n",
       "      <td>4.663439</td>\n",
       "      <td>12.831703</td>\n",
       "      <td>0.363431</td>\n",
       "    </tr>\n",
       "    <tr>\n",
       "      <th>...</th>\n",
       "      <td>...</td>\n",
       "      <td>...</td>\n",
       "      <td>...</td>\n",
       "      <td>...</td>\n",
       "    </tr>\n",
       "    <tr>\n",
       "      <th>2019-08-31</th>\n",
       "      <td>270</td>\n",
       "      <td>5.598422</td>\n",
       "      <td>15.655083</td>\n",
       "      <td>0.357610</td>\n",
       "    </tr>\n",
       "    <tr>\n",
       "      <th>2019-09-30</th>\n",
       "      <td>224</td>\n",
       "      <td>5.411646</td>\n",
       "      <td>15.655083</td>\n",
       "      <td>0.345680</td>\n",
       "    </tr>\n",
       "    <tr>\n",
       "      <th>2019-10-31</th>\n",
       "      <td>220</td>\n",
       "      <td>5.393628</td>\n",
       "      <td>15.655083</td>\n",
       "      <td>0.344529</td>\n",
       "    </tr>\n",
       "    <tr>\n",
       "      <th>2019-11-30</th>\n",
       "      <td>205</td>\n",
       "      <td>5.323010</td>\n",
       "      <td>15.655083</td>\n",
       "      <td>0.340018</td>\n",
       "    </tr>\n",
       "    <tr>\n",
       "      <th>2019-12-31</th>\n",
       "      <td>210</td>\n",
       "      <td>5.347108</td>\n",
       "      <td>15.655083</td>\n",
       "      <td>0.341557</td>\n",
       "    </tr>\n",
       "  </tbody>\n",
       "</table>\n",
       "<p>108 rows × 4 columns</p>\n",
       "</div>"
      ],
      "text/plain": [
       "            num   log_num  log_active_user     INDEX\n",
       "2011-01-31   51  3.931826        12.831703  0.306415\n",
       "2011-02-28   71  4.262680        12.831703  0.332199\n",
       "2011-03-31   99  4.595120        12.831703  0.358107\n",
       "2011-04-30   80  4.382027        12.831703  0.341500\n",
       "2011-05-31  106  4.663439        12.831703  0.363431\n",
       "...         ...       ...              ...       ...\n",
       "2019-08-31  270  5.598422        15.655083  0.357610\n",
       "2019-09-30  224  5.411646        15.655083  0.345680\n",
       "2019-10-31  220  5.393628        15.655083  0.344529\n",
       "2019-11-30  205  5.323010        15.655083  0.340018\n",
       "2019-12-31  210  5.347108        15.655083  0.341557\n",
       "\n",
       "[108 rows x 4 columns]"
      ]
     },
     "execution_count": 587,
     "metadata": {},
     "output_type": "execute_result"
    }
   ],
   "source": [
    "ts['count'] = 1\n",
    "ts.head()\n",
    "count = ts['count']['20110101':'20191231']\n",
    "count = count.resample('M').sum()  #以月为频率，对2011——2019的评论数进行重采样\n",
    "coun = pd.DataFrame(np.random.rand(108, 4), index=pd.date_range('20110131',periods=108, freq='M'), columns=['num', 'log_num', 'log_active_user', 'INDEX'])\n",
    "coun['num'] = count.values  #评论数\n",
    "coun['log_num'] = np.log(coun['num']) #评论数的对数\n",
    "coun.loc['20110131':'20111231', 'log_active_user'] = 12.8317030992143\n",
    "coun.loc['20120131':'20121231', 'log_active_user'] = 13.2393001743642\n",
    "coun.loc['20130131':'20131231', 'log_active_user'] = 13.6562013801946\n",
    "coun.loc['20140131':'20141231', 'log_active_user'] = 14.1008265708957\n",
    "coun.loc['20150131':'20151231', 'log_active_user'] = 14.5264992391366\n",
    "coun.loc['20160131':'20161231', 'log_active_user'] = 14.9338750367073\n",
    "coun.loc['20170131':'20171231', 'log_active_user'] = 15.2585660338899\n",
    "coun.loc['20180131':'20181231', 'log_active_user'] = 15.4956052311908\n",
    "coun.loc['20190131':'20191231', 'log_active_user'] = 15.655083445198  #月活跃用户数的对数\n",
    "coun['INDEX'] = coun['log_num'] / coun['log_active_user'] #舆情热度值\n",
    "coun"
   ]
  },
  {
   "cell_type": "markdown",
   "metadata": {},
   "source": [
    "将降频后的月度数据存入excel"
   ]
  },
  {
   "cell_type": "code",
   "execution_count": 588,
   "metadata": {},
   "outputs": [],
   "source": [
    "writer = pd.ExcelWriter(r'E:\\水环境\\论文修改\\数据\\7月新数据预处理\\月度数据.xlsx',engine='openpyxl')\n",
    "book = openpyxl.load_workbook(writer.path)\n",
    "writer.book = book\n",
    "coun.to_excel(excel_writer=writer,sheet_name='水中毒',encoding='utf-8')\n",
    "writer.close()"
   ]
  },
  {
   "cell_type": "markdown",
   "metadata": {},
   "source": [
    "将处理好的数据存入excel，格式xlsx"
   ]
  },
  {
   "cell_type": "code",
   "execution_count": 589,
   "metadata": {
    "scrolled": false
   },
   "outputs": [],
   "source": [
    "data.to_excel(r'E:\\水环境\\论文修改\\数据\\7月新数据预处理\\水中毒.xlsx',sheet_name='Sheet01')"
   ]
  }
 ],
 "metadata": {
  "kernelspec": {
   "display_name": "Python 3",
   "language": "python",
   "name": "python3"
  },
  "language_info": {
   "codemirror_mode": {
    "name": "ipython",
    "version": 3
   },
   "file_extension": ".py",
   "mimetype": "text/x-python",
   "name": "python",
   "nbconvert_exporter": "python",
   "pygments_lexer": "ipython3",
   "version": "3.7.6"
  }
 },
 "nbformat": 4,
 "nbformat_minor": 4
}
