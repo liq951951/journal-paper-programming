{
 "cells": [
  {
   "cell_type": "code",
   "execution_count": 1,
   "metadata": {},
   "outputs": [
    {
     "name": "stderr",
     "output_type": "stream",
     "text": [
      "Using TensorFlow backend.\n"
     ]
    }
   ],
   "source": [
    "import pandas as pd\n",
    "import  numpy as np\n",
    "from keras.models import Sequential\n",
    "from keras.layers import Dense, Dropout\n",
    "from keras import optimizers\n",
    "from sklearn.model_selection import KFold\n",
    "from sklearn.metrics import explained_variance_score\n",
    "from sklearn.metrics import mean_absolute_error\n",
    "from sklearn.metrics import mean_squared_error\n",
    "from sklearn.metrics import r2_score\n",
    "from sklearn.model_selection import train_test_split\n",
    "from keras.optimizers import SGD, Adam, RMSprop\n",
    "import openpyxl\n",
    "import xgboost as xgb"
   ]
  },
  {
   "cell_type": "markdown",
   "metadata": {},
   "source": [
    "最后一年为测试集"
   ]
  },
  {
   "cell_type": "code",
   "execution_count": 2,
   "metadata": {},
   "outputs": [],
   "source": [
    "def MODEL1(read_path,feature_dim):\n",
    "    model = xgb.XGBRegressor(max_depth=5, learning_rate=0.08, n_estimators=90, silent=False, objective='reg:gamma')\n",
    "    data = pd.read_excel(read_path,sheet_name = 'Sheet1')\n",
    "    print(data)\n",
    "    y_train = data.iloc[:-12,1]\n",
    "    x_train = data.iloc[:-12,2:]\n",
    "    y_test = data.iloc[-12:,1]\n",
    "    x_test = data.iloc[-12:,2:]\n",
    "    model.fit(x_train, y_train)\n",
    "    pred = model.predict(x_test)\n",
    "    pred = np.array(pred).reshape(-1).tolist()\n",
    "    y_pred = np.array(pred).reshape(-1).tolist()\n",
    "    y_test = np.array(y_test).reshape(-1).tolist()\n",
    "    print(\"预测情况：\",y_pred)\n",
    "    print(\"真实情况：\",y_test)\n",
    "    con = pd.DataFrame([y_pred, y_test])\n",
    "    \n",
    "    MAE = mean_absolute_error(y_test, y_pred)\n",
    "    MSE = mean_squared_error(y_test, y_pred)\n",
    "    loss = [MAE, MSE]\n",
    "    return loss, con"
   ]
  },
  {
   "cell_type": "code",
   "execution_count": 3,
   "metadata": {},
   "outputs": [
    {
     "name": "stdout",
     "output_type": "stream",
     "text": [
      "         Time      河水污染        沼气      垃圾处理      污水处理       自来水      淡水养殖  \\\n",
      "0  2011-09-30  0.498525  0.403388  0.455849  0.459147  0.458499  0.430919   \n",
      "1  2011-10-31  0.495614  0.424475  0.463542  0.473999  0.447813  0.447564   \n",
      "2  2011-11-30  0.499301  0.438572  0.454261  0.461480  0.446811  0.449537   \n",
      "3  2011-12-31  0.502080  0.426137  0.457845  0.469230  0.450264  0.449537   \n",
      "4  2012-01-31  0.487579  0.430298  0.462105  0.471468  0.438009  0.446305   \n",
      "..        ...       ...       ...       ...       ...       ...       ...   \n",
      "95 2019-08-31  0.418372  0.398556  0.422013  0.417359  0.419996  0.418189   \n",
      "96 2019-09-30  0.414414  0.397226  0.413038  0.406781  0.408297  0.409673   \n",
      "97 2019-10-31  0.418646  0.387188  0.422529  0.418463  0.420793  0.419639   \n",
      "98 2019-11-30  0.414608  0.399965  0.421144  0.419189  0.421493  0.417080   \n",
      "99 2019-12-31  0.414898  0.388222  0.418463  0.418646  0.420617  0.411122   \n",
      "\n",
      "        农田排水      污水过滤    生活污水处理      农田水利      池塘养鱼     水资源管理      生活污水  \\\n",
      "0   0.460640  0.462724  0.439961  0.472381  0.455849  0.461271  0.466340   \n",
      "1   0.470729  0.483218  0.464553  0.483848  0.450745  0.474177  0.479162   \n",
      "2   0.469419  0.477309  0.468851  0.476795  0.454261  0.472744  0.475584   \n",
      "3   0.462105  0.476279  0.467895  0.480155  0.456520  0.472017  0.476106   \n",
      "4   0.456520  0.473464  0.474354  0.479826  0.458716  0.462518  0.472924   \n",
      "..       ...       ...       ...       ...       ...       ...       ...   \n",
      "95  0.411632  0.420085  0.403981  0.414414  0.419818  0.411122  0.419728   \n",
      "96  0.406561  0.413038  0.392746  0.406781  0.410917  0.407759  0.415379   \n",
      "97  0.415379  0.414995  0.411632  0.414122  0.419009  0.420085  0.419639   \n",
      "98  0.415856  0.413730  0.415379  0.415475  0.422614  0.410814  0.416986   \n",
      "99  0.411530  0.415665  0.412138  0.412639  0.414608  0.414511  0.416706   \n",
      "\n",
      "         养殖场      河道管理      农业污水  \n",
      "0   0.452406  0.471099  0.470357  \n",
      "1   0.471284  0.482424  0.483376  \n",
      "2   0.466143  0.465551  0.470543  \n",
      "3   0.465946  0.478157  0.478829  \n",
      "4   0.469419  0.472199  0.462518  \n",
      "..       ...       ...       ...  \n",
      "95  0.411326  0.419818  0.419907  \n",
      "96  0.403637  0.414511  0.411122  \n",
      "97  0.412939  0.419907  0.419099  \n",
      "98  0.412939  0.419549  0.411835  \n",
      "99  0.413137  0.415187  0.416799  \n",
      "\n",
      "[100 rows x 17 columns]\n",
      "[14:19:55] WARNING: C:\\Users\\Administrator\\workspace\\xgboost-win64_release_1.1.0\\src\\learner.cc:480: \n",
      "Parameters: { silent } might not be used.\n",
      "\n",
      "  This may not be accurate due to some parameters are only used in language bindings but\n",
      "  passed down to XGBoost core.  Or some parameters are not used but slip through this\n",
      "  verification. Please open an issue if you find above cases.\n",
      "\n",
      "\n",
      "预测情况： [0.41985586285591125, 0.4234277606010437, 0.42361360788345337, 0.41991937160491943, 0.41931599378585815, 0.4211970567703247, 0.4215924143791199, 0.418921560049057, 0.4208671450614929, 0.42307862639427185, 0.4230562150478363, 0.42151713371276855]\n",
      "真实情况： [0.4176368555718661, 0.4129386040208487, 0.4166118194771247, 0.4156654760202532, 0.4185546445646375, 0.4158558696485319, 0.4187366304854439, 0.418372138683351, 0.4144138893411408, 0.4186457023348635, 0.4146080445513981, 0.414898175322684]\n",
      "MAE, MSE =  [0.004952074843659476, 3.300915713576372e-05]\n"
     ]
    }
   ],
   "source": [
    "loss1, con1 = MODEL1(r\"E:\\水环境\\论文修改\\数据\\河水污染对压力关键词.xlsx\",15)\n",
    "print('MAE, MSE = ', loss1)"
   ]
  },
  {
   "cell_type": "code",
   "execution_count": 4,
   "metadata": {},
   "outputs": [],
   "source": [
    "writer = pd.ExcelWriter(r'E:\\水环境\\论文修改\\数据\\xgboost预测结果(COD).xlsx',engine='openpyxl')\n",
    "book = openpyxl.load_workbook(writer.path)\n",
    "writer.book = book\n",
    "con1.to_excel(excel_writer=writer,sheet_name='河水污染',encoding='utf-8')\n",
    "writer.close()"
   ]
  },
  {
   "cell_type": "code",
   "execution_count": 5,
   "metadata": {},
   "outputs": [],
   "source": [
    "def MODEL2(read_path,feature_dim):\n",
    "    model = xgb.XGBRegressor(max_depth=2, learning_rate=0.01, n_estimators=305, silent=False, objective='reg:gamma')\n",
    "    data = pd.read_excel(read_path,sheet_name = 'Sheet1')\n",
    "    print(data)\n",
    "    y_train = data.iloc[:-12,1]\n",
    "    x_train = data.iloc[:-12,2:]\n",
    "    y_test = data.iloc[-12:,1]\n",
    "    x_test = data.iloc[-12:,2:]\n",
    "    model.fit(x_train, y_train)\n",
    "    pred = model.predict(x_test)\n",
    "    pred = np.array(pred).reshape(-1).tolist()\n",
    "    y_pred = np.array(pred).reshape(-1).tolist()\n",
    "    y_test = np.array(y_test).reshape(-1).tolist()\n",
    "    print(\"预测情况：\",y_pred)\n",
    "    print(\"真实情况：\",y_test)\n",
    "    con = pd.DataFrame([y_pred, y_test])\n",
    "    \n",
    "    MAE = mean_absolute_error(y_test, y_pred)\n",
    "    MSE = mean_squared_error(y_test, y_pred)\n",
    "    loss = [MAE, MSE]\n",
    "    return loss, con"
   ]
  },
  {
   "cell_type": "code",
   "execution_count": 6,
   "metadata": {
    "scrolled": true
   },
   "outputs": [
    {
     "name": "stdout",
     "output_type": "stream",
     "text": [
      "         Time     农村水环境        沼气      垃圾处理      污水处理       自来水      淡水养殖  \\\n",
      "0  2011-10-31  0.488858  0.438572  0.462518  0.473999  0.447813  0.449537   \n",
      "1  2011-11-30  0.478661  0.426137  0.455849  0.461480  0.446811  0.449537   \n",
      "2  2011-12-31  0.483533  0.430298  0.463542  0.469230  0.450264  0.446305   \n",
      "3  2012-01-31  0.466165  0.439961  0.454261  0.471468  0.438009  0.443197   \n",
      "4  2012-02-29  0.463272  0.445795  0.457845  0.478157  0.431535  0.491033   \n",
      "..        ...       ...       ...       ...       ...       ...       ...   \n",
      "94 2019-08-31  0.411835  0.397226  0.423595  0.417359  0.419996  0.409673   \n",
      "95 2019-09-30  0.409673  0.387188  0.427050  0.406781  0.408297  0.419639   \n",
      "96 2019-10-31  0.414511  0.399965  0.422013  0.418463  0.420793  0.417080   \n",
      "97 2019-11-30  0.404664  0.388222  0.413038  0.419189  0.421493  0.411122   \n",
      "98 2019-12-31  0.410298  0.385068  0.422529  0.418646  0.420617  0.415856   \n",
      "\n",
      "        污水过滤      池塘养鱼      龙虾养殖  \n",
      "0   0.477309  0.455849  0.439685  \n",
      "1   0.476279  0.450745  0.432450  \n",
      "2   0.473464  0.454261  0.431228  \n",
      "3   0.479660  0.456520  0.424138  \n",
      "4   0.501332  0.458716  0.424138  \n",
      "..       ...       ...       ...  \n",
      "94  0.413038  0.421278  0.415766  \n",
      "95  0.414995  0.419818  0.421560  \n",
      "96  0.413730  0.410917  0.415570  \n",
      "97  0.415665  0.419009  0.411835  \n",
      "98  0.416329  0.422614  0.417359  \n",
      "\n",
      "[99 rows x 10 columns]\n",
      "[14:20:01] WARNING: C:\\Users\\Administrator\\workspace\\xgboost-win64_release_1.1.0\\src\\learner.cc:480: \n",
      "Parameters: { silent } might not be used.\n",
      "\n",
      "  This may not be accurate due to some parameters are only used in language bindings but\n",
      "  passed down to XGBoost core.  Or some parameters are not used but slip through this\n",
      "  verification. Please open an issue if you find above cases.\n",
      "\n",
      "\n",
      "预测情况： [0.4109116792678833, 0.41280195116996765, 0.41134804487228394, 0.4109116792678833, 0.4109116792678833, 0.4109116792678833, 0.4109116792678833, 0.4109116792678833, 0.4109116792678833, 0.4109116792678833, 0.4109116792678833, 0.4109116792678833]\n",
      "真实情况： [0.4058981903891719, 0.3981101754179565, 0.4192794979029963, 0.4115302348288898, 0.4107112875218416, 0.4072175560190677, 0.4094628370653883, 0.4118346532684144, 0.4096726139862643, 0.414511040713475, 0.4046643554264323, 0.4102978426157012]\n",
      "MAE, MSE =  [0.0038517659700973844, 3.123401400092933e-05]\n"
     ]
    }
   ],
   "source": [
    "loss2, con2 = MODEL2(r\"E:\\水环境\\论文修改\\数据\\农村水环境对压力关键词.xlsx\",8)\n",
    "print('MAE, MSE = ', loss2)"
   ]
  },
  {
   "cell_type": "code",
   "execution_count": 7,
   "metadata": {},
   "outputs": [],
   "source": [
    "writer = pd.ExcelWriter(r'E:\\水环境\\论文修改\\数据\\xgboost预测结果(COD).xlsx',engine='openpyxl')\n",
    "book = openpyxl.load_workbook(writer.path)\n",
    "writer.book = book\n",
    "con2.to_excel(excel_writer=writer,sheet_name='农村水环境',encoding='utf-8')\n",
    "writer.close()"
   ]
  },
  {
   "cell_type": "code",
   "execution_count": 8,
   "metadata": {},
   "outputs": [],
   "source": [
    "def MODEL3(read_path,feature_dim):\n",
    "    model = xgb.XGBRegressor(max_depth=5, learning_rate=0.08, n_estimators=90, silent=False, objective='reg:gamma')\n",
    "    data = pd.read_excel(read_path,sheet_name = 'Sheet1')\n",
    "    print(data)\n",
    "    y_train = data.iloc[:-12,1]\n",
    "    x_train = data.iloc[:-12,2:]\n",
    "    y_test = data.iloc[-12:,1]\n",
    "    x_test = data.iloc[-12:,2:]\n",
    "    model.fit(x_train, y_train)\n",
    "    pred = model.predict(x_test)\n",
    "    pred = np.array(pred).reshape(-1).tolist()\n",
    "    y_pred = np.array(pred).reshape(-1).tolist()\n",
    "    y_test = np.array(y_test).reshape(-1).tolist()\n",
    "    print(\"预测情况：\",y_pred)\n",
    "    print(\"真实情况：\",y_test)\n",
    "    con = pd.DataFrame([y_pred, y_test])\n",
    "    \n",
    "    MAE = mean_absolute_error(y_test, y_pred)\n",
    "    MSE = mean_squared_error(y_test, y_pred)\n",
    "    loss = [MAE, MSE]\n",
    "    return loss, con"
   ]
  },
  {
   "cell_type": "code",
   "execution_count": 9,
   "metadata": {},
   "outputs": [
    {
     "name": "stdout",
     "output_type": "stream",
     "text": [
      "         Time     水资源现状        沼气      污水处理      淡水养殖      污水过滤    生活污水处理  \\\n",
      "0  2011-10-31  0.493426  0.424475  0.473999  0.447564  0.462724  0.464553   \n",
      "1  2011-11-30  0.486922  0.438572  0.461480  0.449537  0.483218  0.468851   \n",
      "2  2011-12-31  0.497479  0.426137  0.469230  0.449537  0.477309  0.467895   \n",
      "3  2012-01-31  0.486622  0.430298  0.471468  0.446305  0.476279  0.474354   \n",
      "4  2012-02-29  0.471197  0.439961  0.478157  0.443197  0.473464  0.475932   \n",
      "..        ...       ...       ...       ...       ...       ...       ...   \n",
      "94 2019-08-31  0.406341  0.398556  0.417359  0.418189  0.418973  0.403981   \n",
      "95 2019-09-30  0.410608  0.397226  0.406781  0.409673  0.420085  0.392746   \n",
      "96 2019-10-31  0.414317  0.387188  0.418463  0.419639  0.413038  0.411632   \n",
      "97 2019-11-30  0.413926  0.399965  0.419189  0.417080  0.414995  0.415379   \n",
      "98 2019-12-31  0.417173  0.388222  0.418646  0.411122  0.413730  0.412138   \n",
      "\n",
      "        池塘养鱼     水资源管理      生活污水       养殖场      农业污水  \n",
      "0   0.450745  0.474177  0.479162  0.471284  0.483376  \n",
      "1   0.454261  0.472744  0.475584  0.466143  0.470543  \n",
      "2   0.456520  0.472017  0.476106  0.465946  0.478829  \n",
      "3   0.458716  0.462518  0.472924  0.469419  0.462518  \n",
      "4   0.452171  0.471834  0.478157  0.466536  0.457845  \n",
      "..       ...       ...       ...       ...       ...  \n",
      "94  0.419818  0.411122  0.419728  0.411326  0.419907  \n",
      "95  0.410917  0.407759  0.415379  0.403637  0.411122  \n",
      "96  0.419009  0.420085  0.419639  0.412939  0.419099  \n",
      "97  0.422614  0.410814  0.416986  0.412939  0.411835  \n",
      "98  0.414608  0.414511  0.416706  0.413137  0.416799  \n",
      "\n",
      "[99 rows x 12 columns]\n",
      "[14:20:02] WARNING: C:\\Users\\Administrator\\workspace\\xgboost-win64_release_1.1.0\\src\\learner.cc:480: \n",
      "Parameters: { silent } might not be used.\n",
      "\n",
      "  This may not be accurate due to some parameters are only used in language bindings but\n",
      "  passed down to XGBoost core.  Or some parameters are not used but slip through this\n",
      "  verification. Please open an issue if you find above cases.\n",
      "\n",
      "\n",
      "预测情况： [0.41604354977607727, 0.41688376665115356, 0.41992437839508057, 0.416125625371933, 0.4135778844356537, 0.4156266152858734, 0.40905970335006714, 0.415118008852005, 0.4175902307033539, 0.41915735602378845, 0.4166879951953888, 0.41869640350341797]\n",
      "真实情况： [0.4126394137080776, 0.4089353607815417, 0.4196388632108762, 0.4034062177713585, 0.41233881543570905, 0.4121376278205857, 0.4138278575701728, 0.4063410137570518, 0.4106081769022021, 0.4143165899849379, 0.4139259036600233, 0.4171729681663977]\n",
      "MAE, MSE =  [0.004894918101255812, 3.602012549595749e-05]\n"
     ]
    }
   ],
   "source": [
    "loss3, con3 = MODEL3(r\"E:\\水环境\\论文修改\\数据\\水资源现状对压力关键词.xlsx\",10)\n",
    "print('MAE, MSE = ', loss3)"
   ]
  },
  {
   "cell_type": "code",
   "execution_count": 10,
   "metadata": {},
   "outputs": [],
   "source": [
    "writer = pd.ExcelWriter(r'E:\\水环境\\论文修改\\数据\\xgboost预测结果(COD).xlsx',engine='openpyxl')\n",
    "book = openpyxl.load_workbook(writer.path)\n",
    "writer.book = book\n",
    "con3.to_excel(excel_writer=writer,sheet_name='水资源现状',encoding='utf-8')\n",
    "writer.close()"
   ]
  },
  {
   "cell_type": "code",
   "execution_count": null,
   "metadata": {},
   "outputs": [],
   "source": []
  }
 ],
 "metadata": {
  "kernelspec": {
   "display_name": "Python 3",
   "language": "python",
   "name": "python3"
  },
  "language_info": {
   "codemirror_mode": {
    "name": "ipython",
    "version": 3
   },
   "file_extension": ".py",
   "mimetype": "text/x-python",
   "name": "python",
   "nbconvert_exporter": "python",
   "pygments_lexer": "ipython3",
   "version": "3.7.6"
  }
 },
 "nbformat": 4,
 "nbformat_minor": 4
}
